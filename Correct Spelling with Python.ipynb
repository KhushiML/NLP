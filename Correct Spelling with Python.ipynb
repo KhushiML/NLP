{
 "cells": [
  {
   "cell_type": "code",
   "execution_count": 1,
   "id": "db95daf7",
   "metadata": {},
   "outputs": [],
   "source": [
    "from textblob import TextBlob"
   ]
  },
  {
   "cell_type": "code",
   "execution_count": 5,
   "id": "56abeba1",
   "metadata": {},
   "outputs": [],
   "source": [
    "words = [\"Machine\", \"Learnin\"]"
   ]
  },
  {
   "cell_type": "code",
   "execution_count": 6,
   "id": "beac15a3",
   "metadata": {},
   "outputs": [
    {
     "name": "stdout",
     "output_type": "stream",
     "text": [
      "Wrong Words are : ['Machine', 'Learnin']\n",
      "Corrected words are :\n",
      "Machine Learning "
     ]
    }
   ],
   "source": [
    "corrected_words =[]\n",
    "for i in words:\n",
    "    corrected_words.append(TextBlob(i))\n",
    "    \n",
    "print(\"Wrong Words are :\", words)\n",
    "print(\"Corrected words are :\")\n",
    "\n",
    "for i in corrected_words:\n",
    "    print(i.correct(), end = \" \")"
   ]
  },
  {
   "cell_type": "code",
   "execution_count": null,
   "id": "71201643",
   "metadata": {},
   "outputs": [],
   "source": []
  }
 ],
 "metadata": {
  "kernelspec": {
   "display_name": "Python 3 (ipykernel)",
   "language": "python",
   "name": "python3"
  },
  "language_info": {
   "codemirror_mode": {
    "name": "ipython",
    "version": 3
   },
   "file_extension": ".py",
   "mimetype": "text/x-python",
   "name": "python",
   "nbconvert_exporter": "python",
   "pygments_lexer": "ipython3",
   "version": "3.10.9"
  }
 },
 "nbformat": 4,
 "nbformat_minor": 5
}
